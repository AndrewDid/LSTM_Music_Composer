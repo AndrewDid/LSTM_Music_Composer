{
 "cells": [
  {
   "cell_type": "markdown",
   "metadata": {},
   "source": [
    "This notebook is used to train model.\n",
    "You can use it in Google Colab or Kaggle.\n",
    "Note, that modules that are used in this notebook should be reached."
   ]
  },
  {
   "cell_type": "code",
   "execution_count": null,
   "metadata": {},
   "outputs": [],
   "source": [
    "# Music21 library should be installed\n",
    "# !pip install music21"
   ]
  },
  {
   "cell_type": "code",
   "execution_count": null,
   "metadata": {},
   "outputs": [],
   "source": [
    "# If you are using Google Colab you should first mount Google Drive.\n",
    "# Run this cell to mount Google Drive\n",
    "from google.colab import drive\n",
    "drive.mount('/content/drive')"
   ]
  },
  {
   "cell_type": "code",
   "execution_count": null,
   "metadata": {},
   "outputs": [],
   "source": [
    "# Specify path where modules, data files and model weights are stored.\n",
    "# If you are using Google Colab it can be '/content/drive/My Drive'\n",
    "# If you are using Kaggle is can be '../input/dataset/'\n",
    "import sys\n",
    "sys.path.append('path')"
   ]
  },
  {
   "cell_type": "code",
   "execution_count": null,
   "metadata": {},
   "outputs": [],
   "source": [
    "# Importing modules\n",
    "import preprocessing\n",
    "import create_model\n",
    "from tensorflow.keras.callbacks import ModelCheckpoint\n",
    "from tensorflow.keras.models import load_model\n",
    "from sklearn.utils import shuffle\n",
    "import numpy as np\n",
    "import tensorflow as tf"
   ]
  },
  {
   "cell_type": "code",
   "execution_count": null,
   "metadata": {},
   "outputs": [],
   "source": [
    "# Try to connect to TPU\n",
    "try:\n",
    "    # detect and init the TPU\n",
    "    tpu = tf.distribute.cluster_resolver.TPUClusterResolver()\n",
    "    tf.config.experimental_connect_to_cluster(tpu)\n",
    "    tf.tpu.experimental.initialize_tpu_system(tpu)\n",
    "\n",
    "    # instantiate a distribution strategy\n",
    "    tpu_strategy = tf.distribute.experimental.TPUStrategy(tpu)\n",
    "    \n",
    "    has_tpu = True\n",
    "except KeyError:\n",
    "    has_tpu = False\n",
    "    print(\"TPU not found\")"
   ]
  },
  {
   "cell_type": "code",
   "execution_count": null,
   "metadata": {},
   "outputs": [],
   "source": [
    "seq_len = 150\n",
    "batch_size = 64\n",
    "epochs = 100\n",
    "initial_epoch = 0"
   ]
  },
  {
   "cell_type": "code",
   "execution_count": null,
   "metadata": {},
   "outputs": [],
   "source": [
    "# Loading melodies\n",
    "melodies = preprocessing.notes_from_txt(\"melodies.txt\")\n",
    "\n",
    "# If you don't have .txt file with melodies you can create list of melodies from .mid files.\n",
    "# Comment previous line of code and uncomment line below. Also specify path to folder where .mid files are stored.\n",
    "# melodies = preprocessing.midi_to_str(\"/melodies_folder/\")"
   ]
  },
  {
   "cell_type": "code",
   "execution_count": null,
   "metadata": {},
   "outputs": [],
   "source": [
    "# Run this cell if you want to reduce number of classes. Set your own threshold values.\n",
    "preprocessing.frequency_filter(melodies, 'note', 10)\n",
    "preprocessing.frequency_filter(melodies, 'chord', 5)\n",
    "preprocessing.frequency_filter(melodies, 'offset', 5)"
   ]
  },
  {
   "cell_type": "code",
   "execution_count": null,
   "metadata": {},
   "outputs": [],
   "source": [
    "# Tokenize and encode melodies\n",
    "encoded_melodies, tokenizer, vocab_len = preprocessing.tokenize_melodies(melodies)"
   ]
  },
  {
   "cell_type": "code",
   "execution_count": null,
   "metadata": {},
   "outputs": [],
   "source": [
    "# Creating training data\n",
    "x_train, y_train = preprocessing.create_data(encoded_melodies, seq_len)\n",
    "x_train = np.array(x_train)\n",
    "y_train = np.array(y_train)"
   ]
  },
  {
   "cell_type": "code",
   "execution_count": null,
   "metadata": {},
   "outputs": [],
   "source": [
    "# Run this cell if you want to delete 'remainder' from data\n",
    "newlen = x_train.shape[0] - x_train.shape[0] % batch_size\n",
    "x_train = x_train[:newlen]\n",
    "y_train = y_train[:newlen]"
   ]
  },
  {
   "cell_type": "code",
   "execution_count": null,
   "metadata": {},
   "outputs": [],
   "source": [
    "# Shuffle data samples\n",
    "x_train, y_train = shuffle(x_train, y_train, random_state=42)"
   ]
  },
  {
   "cell_type": "code",
   "execution_count": null,
   "metadata": {},
   "outputs": [],
   "source": [
    "# Create or load model\n",
    "# Specify model hyperparameters you need. For more information about model hyperparameters read function description\n",
    "# Model loading is used to continue training from last checkpoint\n",
    "if has_tpu:\n",
    "    with tpu_strategy.scope():\n",
    "        model = create_model.create_model(vocab_len, seq_len, 64, 3, 512)\n",
    "    # model = create_model.load_model(\"your_model.hdf5\")\n",
    "else:\n",
    "    model = create_model.create_model(vocab_len, seq_len, 64, 3, 512)\n",
    "    # model = create_model.load_model(\"your_model.hdf5\")"
   ]
  },
  {
   "cell_type": "code",
   "execution_count": null,
   "metadata": {},
   "outputs": [],
   "source": [
    "# Create checkpoints\n",
    "# Specify path and parameters you want\n",
    "checkpoint_filepath = \"path/model-{epoch:02d}-{loss:.3f}.hdf5\"\n",
    "checkpoint = ModelCheckpoint(checkpoint_filepath, monitor='loss', verbose=1, save_best_only=True, mode='min', period=5)"
   ]
  },
  {
   "cell_type": "code",
   "execution_count": null,
   "metadata": {},
   "outputs": [],
   "source": [
    "# Fit model\n",
    "history = model.fit(x_train, y_train, batch_size=batch_size, epochs=epochs, callbacks=[checkpoint], initial_epoch=initial_epoch)"
   ]
  }
 ],
 "metadata": {
  "kernelspec": {
   "display_name": "Python 3",
   "language": "python",
   "name": "python3"
  },
  "language_info": {
   "codemirror_mode": {
    "name": "ipython",
    "version": 3
   },
   "file_extension": ".py",
   "mimetype": "text/x-python",
   "name": "python",
   "nbconvert_exporter": "python",
   "pygments_lexer": "ipython3",
   "version": "3.8.2"
  }
 },
 "nbformat": 4,
 "nbformat_minor": 4
}
